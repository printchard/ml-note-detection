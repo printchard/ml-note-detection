{
 "cells": [
  {
   "cell_type": "code",
   "execution_count": 1,
   "id": "62a1922a",
   "metadata": {},
   "outputs": [],
   "source": [
    "import os\n",
    "from random import sample"
   ]
  },
  {
   "cell_type": "markdown",
   "id": "c4062da7",
   "metadata": {},
   "source": [
    "## Separating data into training and test directories"
   ]
  },
  {
   "cell_type": "code",
   "execution_count": 3,
   "id": "30c567be",
   "metadata": {},
   "outputs": [],
   "source": [
    "training_path = \"notes/training/\"\n",
    "test_path = \"notes/test/\"\n",
    "categories = [\"Whole/\", \"Half/\", \"Quarter/\", \"Eight/\", \"Sixteenth/\"]\n",
    "\n",
    "for category in categories:\n",
    "    if not os.path.exists(test_path + category):\n",
    "        os.makedirs(test_path + category)\n",
    "\n",
    "    dirlist = os.listdir(training_path + category)\n",
    "    test_amount = int(len(dirlist) * 0.2)\n",
    "    test_data = sample(dirlist, test_amount)\n",
    "    for file in test_data:\n",
    "        os.rename(training_path + category + file, test_path + category + file)"
   ]
  }
 ],
 "metadata": {
  "kernelspec": {
   "display_name": "venv",
   "language": "python",
   "name": "python3"
  },
  "language_info": {
   "codemirror_mode": {
    "name": "ipython",
    "version": 3
   },
   "file_extension": ".py",
   "mimetype": "text/x-python",
   "name": "python",
   "nbconvert_exporter": "python",
   "pygments_lexer": "ipython3",
   "version": "3.12.3"
  }
 },
 "nbformat": 4,
 "nbformat_minor": 5
}
